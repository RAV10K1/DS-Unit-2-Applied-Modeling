{
  "nbformat": 4,
  "nbformat_minor": 0,
  "metadata": {
    "kernelspec": {
      "display_name": "Python 3",
      "language": "python",
      "name": "python3"
    },
    "language_info": {
      "codemirror_mode": {
        "name": "ipython",
        "version": 3
      },
      "file_extension": ".py",
      "mimetype": "text/x-python",
      "name": "python",
      "nbconvert_exporter": "python",
      "pygments_lexer": "ipython3",
      "version": "3.7.3"
    },
    "colab": {
      "name": "DS_Sprint_Challenge_7_Ravindra_Tennekone.ipynb",
      "provenance": [],
      "collapsed_sections": [],
      "include_colab_link": true
    }
  },
  "cells": [
    {
      "cell_type": "markdown",
      "metadata": {
        "id": "view-in-github",
        "colab_type": "text"
      },
      "source": [
        "<a href=\"https://colab.research.google.com/github/RAV10K1/DS-Unit-2-Applied-Modeling/blob/master/DS_Sprint_Challenge_7_Ravindra_Tennekone.ipynb\" target=\"_parent\"><img src=\"https://colab.research.google.com/assets/colab-badge.svg\" alt=\"Open In Colab\"/></a>"
      ]
    },
    {
      "cell_type": "markdown",
      "metadata": {
        "colab_type": "text",
        "id": "Kz9V5lVFMo86"
      },
      "source": [
        "_Lambda School Data Science, Unit 2_\n",
        "\n",
        "# Applied Modeling Sprint Challenge: Predict Chicago food inspections 🍕"
      ]
    },
    {
      "cell_type": "markdown",
      "metadata": {
        "colab_type": "text",
        "id": "yWOjtM9iMo87"
      },
      "source": [
        "For this Sprint Challenge, you'll use a dataset with information from inspections of restaurants and other food establishments in Chicago from January 2010 to March 2019. \n",
        "\n",
        "[See this PDF](https://data.cityofchicago.org/api/assets/BAD5301B-681A-4202-9D25-51B2CAE672FF) for descriptions of the data elements included in this dataset.\n",
        "\n",
        "According to [Chicago Department of Public Health — Food Protection Services](https://www.chicago.gov/city/en/depts/cdph/provdrs/healthy_restaurants/svcs/food-protection-services.html), \"Chicago is home to 16,000 food establishments like restaurants, grocery stores, bakeries, wholesalers, lunchrooms, mobile food vendors and more. Our business is food safety and sanitation with one goal, to prevent the spread of food-borne disease. We do this by inspecting food businesses, responding to complaints and food recalls.\" "
      ]
    },
    {
      "cell_type": "markdown",
      "metadata": {
        "colab_type": "text",
        "id": "VvBYdx2xMo88"
      },
      "source": [
        "#### Your challenge: Predict whether inspections failed\n",
        "\n",
        "The target is the `Fail` column.\n",
        "\n",
        "- When the food establishment failed the inspection, the target is `1`.\n",
        "- When the establishment passed, the target is `0`."
      ]
    },
    {
      "cell_type": "markdown",
      "metadata": {
        "colab_type": "text",
        "id": "3YMtu4LaF8Jq"
      },
      "source": [
        "#### Run this cell to install packages in Colab:"
      ]
    },
    {
      "cell_type": "code",
      "metadata": {
        "colab_type": "code",
        "id": "vWyiJKQgF6ax",
        "colab": {}
      },
      "source": [
        "%%capture\n",
        "import sys\n",
        "\n",
        "if 'google.colab' in sys.modules:\n",
        "    # Install packages in Colab\n",
        "    !pip install category_encoders==2.*\n",
        "    !pip install eli5\n",
        "    !pip install pandas-profiling==2.*\n",
        "    !pip install pdpbox\n",
        "    !pip install shap"
      ],
      "execution_count": 0,
      "outputs": []
    },
    {
      "cell_type": "markdown",
      "metadata": {
        "colab_type": "text",
        "id": "Na5IvRq1Mo89"
      },
      "source": [
        "#### Run this cell to load the data:"
      ]
    },
    {
      "cell_type": "code",
      "metadata": {
        "colab_type": "code",
        "id": "Yyc7zftTMo89",
        "colab": {}
      },
      "source": [
        "import pandas as pd\n",
        "\n",
        "train_url = 'https://drive.google.com/uc?export=download&id=13_tP9JpLcZHSPVpWcua4t2rY44K_s4H5'\n",
        "test_url  = 'https://drive.google.com/uc?export=download&id=1GkDHjsiGrzOXoF_xcYjdzBTSjOIi3g5a'\n",
        "\n",
        "train = pd.read_csv(train_url)\n",
        "test  = pd.read_csv(test_url)\n",
        "\n",
        "assert train.shape == (51916, 17)\n",
        "assert test.shape  == (17306, 17)"
      ],
      "execution_count": 0,
      "outputs": []
    },
    {
      "cell_type": "markdown",
      "metadata": {
        "colab_type": "text",
        "id": "8EhbzqgfMo9A"
      },
      "source": [
        "### Part 1: Preprocessing\n",
        "\n",
        "You may choose which features you want to use, and whether/how you will preprocess them. If you use categorical features, you may use any tools and techniques for encoding.\n",
        "\n",
        "_To earn a score of 3 for this part, find and explain leakage. The dataset has a feature that will give you an ROC AUC score > 0.90 if you process and use the feature. Find the leakage and explain why the feature shouldn't be used in a real-world model to predict the results of future inspections._\n",
        "\n",
        "### Part 2: Modeling\n",
        "\n",
        "**Fit a model** with the train set. (You may use scikit-learn, xgboost, or any other library.) Use cross-validation or do a three-way split (train/validate/test) and **estimate your ROC AUC** validation score.\n",
        "\n",
        "Use your model to **predict probabilities** for the test set. **Get an ROC AUC test score >= 0.60.**\n",
        "\n",
        "_To earn a score of 3 for this part, get an ROC AUC test score >= 0.70 (without using the feature with leakage)._\n",
        "\n",
        "\n",
        "### Part 3: Visualization\n",
        "\n",
        "Make visualizations for model interpretation. (You may use any libraries.) Choose two of these types:\n",
        "\n",
        "- Confusion Matrix\n",
        "- Permutation Importances\n",
        "- Partial Dependence Plot, 1 feature isolation\n",
        "- Partial Dependence Plot, 2 features interaction\n",
        "- Shapley Values\n",
        "\n",
        "_To earn a score of 3 for this part, make four of these visualization types._"
      ]
    },
    {
      "cell_type": "markdown",
      "metadata": {
        "colab_type": "text",
        "id": "muEIQ4EPGVH_"
      },
      "source": [
        "## Part 1: Preprocessing\n",
        "\n",
        "> You may choose which features you want to use, and whether/how you will preprocess them. If you use categorical features, you may use any tools and techniques for encoding."
      ]
    },
    {
      "cell_type": "code",
      "metadata": {
        "colab_type": "code",
        "id": "Ao1PDJtpIWwp",
        "colab": {
          "base_uri": "https://localhost:8080/",
          "height": 549
        },
        "outputId": "2e5b04df-8e6e-442f-ef29-cbcd314001df"
      },
      "source": [
        "# Checking train dataset\n",
        "train.head()"
      ],
      "execution_count": 90,
      "outputs": [
        {
          "output_type": "execute_result",
          "data": {
            "text/html": [
              "<div>\n",
              "<style scoped>\n",
              "    .dataframe tbody tr th:only-of-type {\n",
              "        vertical-align: middle;\n",
              "    }\n",
              "\n",
              "    .dataframe tbody tr th {\n",
              "        vertical-align: top;\n",
              "    }\n",
              "\n",
              "    .dataframe thead th {\n",
              "        text-align: right;\n",
              "    }\n",
              "</style>\n",
              "<table border=\"1\" class=\"dataframe\">\n",
              "  <thead>\n",
              "    <tr style=\"text-align: right;\">\n",
              "      <th></th>\n",
              "      <th>Inspection ID</th>\n",
              "      <th>DBA Name</th>\n",
              "      <th>AKA Name</th>\n",
              "      <th>License #</th>\n",
              "      <th>Facility Type</th>\n",
              "      <th>Risk</th>\n",
              "      <th>Address</th>\n",
              "      <th>City</th>\n",
              "      <th>State</th>\n",
              "      <th>Zip</th>\n",
              "      <th>Inspection Date</th>\n",
              "      <th>Inspection Type</th>\n",
              "      <th>Violations</th>\n",
              "      <th>Latitude</th>\n",
              "      <th>Longitude</th>\n",
              "      <th>Location</th>\n",
              "      <th>Fail</th>\n",
              "    </tr>\n",
              "  </thead>\n",
              "  <tbody>\n",
              "    <tr>\n",
              "      <th>50129</th>\n",
              "      <td>1230195</td>\n",
              "      <td>IRAZU INC</td>\n",
              "      <td>IRAZU INC</td>\n",
              "      <td>22758.0</td>\n",
              "      <td>Restaurant</td>\n",
              "      <td>Risk 1 (High)</td>\n",
              "      <td>1865 N MILWAUKEE AVE</td>\n",
              "      <td>CHICAGO</td>\n",
              "      <td>IL</td>\n",
              "      <td>60647.0</td>\n",
              "      <td>2012-07-19T00:00:00</td>\n",
              "      <td>Short Form Complaint</td>\n",
              "      <td>31. CLEAN MULTI-USE UTENSILS AND SINGLE SERVIC...</td>\n",
              "      <td>41.915385</td>\n",
              "      <td>-87.684974</td>\n",
              "      <td>{'longitude': '-87.68497371798973', 'latitude'...</td>\n",
              "      <td>0</td>\n",
              "    </tr>\n",
              "    <tr>\n",
              "      <th>6026</th>\n",
              "      <td>1322226</td>\n",
              "      <td>EVERGREEN RESTAURANT</td>\n",
              "      <td>EVERGREEN RESTAURANT</td>\n",
              "      <td>2185077.0</td>\n",
              "      <td>Restaurant</td>\n",
              "      <td>Risk 1 (High)</td>\n",
              "      <td>2411 S WENTWORTH AVE</td>\n",
              "      <td>CHICAGO</td>\n",
              "      <td>IL</td>\n",
              "      <td>60616.0</td>\n",
              "      <td>2012-11-28T00:00:00</td>\n",
              "      <td>License Re-Inspection</td>\n",
              "      <td>32. FOOD AND NON-FOOD CONTACT SURFACES PROPERL...</td>\n",
              "      <td>41.848805</td>\n",
              "      <td>-87.631778</td>\n",
              "      <td>{'longitude': '-87.63177773474666', 'latitude'...</td>\n",
              "      <td>0</td>\n",
              "    </tr>\n",
              "    <tr>\n",
              "      <th>31408</th>\n",
              "      <td>1215193</td>\n",
              "      <td>La Isla Pequena</td>\n",
              "      <td>La Isla Pequena</td>\n",
              "      <td>2137994.0</td>\n",
              "      <td>Restaurant</td>\n",
              "      <td>Risk 1 (High)</td>\n",
              "      <td>4107 W NORTH AVE</td>\n",
              "      <td>CHICAGO</td>\n",
              "      <td>IL</td>\n",
              "      <td>60639.0</td>\n",
              "      <td>2012-05-25T00:00:00</td>\n",
              "      <td>Short Form Complaint</td>\n",
              "      <td>NaN</td>\n",
              "      <td>41.909736</td>\n",
              "      <td>-87.729273</td>\n",
              "      <td>{'longitude': '-87.72927346612649', 'latitude'...</td>\n",
              "      <td>0</td>\n",
              "    </tr>\n",
              "    <tr>\n",
              "      <th>20730</th>\n",
              "      <td>1547096</td>\n",
              "      <td>HON KEE REST INC</td>\n",
              "      <td>HON KEE RESTAURANT</td>\n",
              "      <td>2751.0</td>\n",
              "      <td>Restaurant</td>\n",
              "      <td>Risk 1 (High)</td>\n",
              "      <td>1064 W ARGYLE ST</td>\n",
              "      <td>CHICAGO</td>\n",
              "      <td>IL</td>\n",
              "      <td>60640.0</td>\n",
              "      <td>2015-06-15T00:00:00</td>\n",
              "      <td>Suspected Food Poisoning</td>\n",
              "      <td>3. POTENTIALLY HAZARDOUS FOOD MEETS TEMPERATUR...</td>\n",
              "      <td>41.973386</td>\n",
              "      <td>-87.657509</td>\n",
              "      <td>{'longitude': '-87.65750874906352', 'latitude'...</td>\n",
              "      <td>1</td>\n",
              "    </tr>\n",
              "    <tr>\n",
              "      <th>11070</th>\n",
              "      <td>634370</td>\n",
              "      <td>DUNLAYS ON THE SQUARE</td>\n",
              "      <td>MERCHANT</td>\n",
              "      <td>1046040.0</td>\n",
              "      <td>Restaurant</td>\n",
              "      <td>Risk 1 (High)</td>\n",
              "      <td>3137-3139 W LOGAN BLVD</td>\n",
              "      <td>CHICAGO</td>\n",
              "      <td>IL</td>\n",
              "      <td>60647.0</td>\n",
              "      <td>2011-08-23T00:00:00</td>\n",
              "      <td>Canvass Re-Inspection</td>\n",
              "      <td>36. LIGHTING: REQUIRED MINIMUM FOOT-CANDLES OF...</td>\n",
              "      <td>41.927864</td>\n",
              "      <td>-87.706415</td>\n",
              "      <td>{'longitude': '-87.70641510084438', 'latitude'...</td>\n",
              "      <td>0</td>\n",
              "    </tr>\n",
              "  </tbody>\n",
              "</table>\n",
              "</div>"
            ],
            "text/plain": [
              "       Inspection ID  ... Fail\n",
              "50129        1230195  ...    0\n",
              "6026         1322226  ...    0\n",
              "31408        1215193  ...    0\n",
              "20730        1547096  ...    1\n",
              "11070         634370  ...    0\n",
              "\n",
              "[5 rows x 17 columns]"
            ]
          },
          "metadata": {
            "tags": []
          },
          "execution_count": 90
        }
      ]
    },
    {
      "cell_type": "code",
      "metadata": {
        "id": "nkamMUiJKZkZ",
        "colab_type": "code",
        "colab": {
          "base_uri": "https://localhost:8080/",
          "height": 584
        },
        "outputId": "1d25c8d2-dc96-4812-973a-bb218d7c0a73"
      },
      "source": [
        "# Checking test dataset\n",
        "test.head()"
      ],
      "execution_count": 91,
      "outputs": [
        {
          "output_type": "execute_result",
          "data": {
            "text/html": [
              "<div>\n",
              "<style scoped>\n",
              "    .dataframe tbody tr th:only-of-type {\n",
              "        vertical-align: middle;\n",
              "    }\n",
              "\n",
              "    .dataframe tbody tr th {\n",
              "        vertical-align: top;\n",
              "    }\n",
              "\n",
              "    .dataframe thead th {\n",
              "        text-align: right;\n",
              "    }\n",
              "</style>\n",
              "<table border=\"1\" class=\"dataframe\">\n",
              "  <thead>\n",
              "    <tr style=\"text-align: right;\">\n",
              "      <th></th>\n",
              "      <th>Inspection ID</th>\n",
              "      <th>DBA Name</th>\n",
              "      <th>AKA Name</th>\n",
              "      <th>License #</th>\n",
              "      <th>Facility Type</th>\n",
              "      <th>Risk</th>\n",
              "      <th>Address</th>\n",
              "      <th>City</th>\n",
              "      <th>State</th>\n",
              "      <th>Zip</th>\n",
              "      <th>Inspection Date</th>\n",
              "      <th>Inspection Type</th>\n",
              "      <th>Violations</th>\n",
              "      <th>Latitude</th>\n",
              "      <th>Longitude</th>\n",
              "      <th>Location</th>\n",
              "      <th>Fail</th>\n",
              "    </tr>\n",
              "  </thead>\n",
              "  <tbody>\n",
              "    <tr>\n",
              "      <th>0</th>\n",
              "      <td>114835</td>\n",
              "      <td>7 - ELEVEN</td>\n",
              "      <td>7 - ELEVEN</td>\n",
              "      <td>46907.0</td>\n",
              "      <td>Grocery Store</td>\n",
              "      <td>Risk 2 (Medium)</td>\n",
              "      <td>600 S DEARBORN</td>\n",
              "      <td>CHICAGO</td>\n",
              "      <td>IL</td>\n",
              "      <td>60605.0</td>\n",
              "      <td>2011-03-22T00:00:00</td>\n",
              "      <td>Canvass</td>\n",
              "      <td>33. FOOD AND NON-FOOD CONTACT EQUIPMENT UTENSI...</td>\n",
              "      <td>41.874481</td>\n",
              "      <td>-87.629357</td>\n",
              "      <td>{'longitude': '-87.62935653990546', 'latitude'...</td>\n",
              "      <td>0</td>\n",
              "    </tr>\n",
              "    <tr>\n",
              "      <th>1</th>\n",
              "      <td>1575555</td>\n",
              "      <td>TAQUERIA LOS GALLOS INC</td>\n",
              "      <td>TAQUERIA LOS GALLOS</td>\n",
              "      <td>1044860.0</td>\n",
              "      <td>Restaurant</td>\n",
              "      <td>Risk 1 (High)</td>\n",
              "      <td>4209-4211 W 26TH ST</td>\n",
              "      <td>CHICAGO</td>\n",
              "      <td>IL</td>\n",
              "      <td>60623.0</td>\n",
              "      <td>2015-09-15T00:00:00</td>\n",
              "      <td>Canvass</td>\n",
              "      <td>30. FOOD IN ORIGINAL CONTAINER, PROPERLY LABEL...</td>\n",
              "      <td>41.844070</td>\n",
              "      <td>-87.729807</td>\n",
              "      <td>{'longitude': '-87.72980747367433', 'latitude'...</td>\n",
              "      <td>0</td>\n",
              "    </tr>\n",
              "    <tr>\n",
              "      <th>2</th>\n",
              "      <td>671061</td>\n",
              "      <td>TROTTER'S TO GO</td>\n",
              "      <td>TROTTER'S TO GO</td>\n",
              "      <td>1092634.0</td>\n",
              "      <td>Restaurant</td>\n",
              "      <td>Risk 1 (High)</td>\n",
              "      <td>1337 W FULLERTON AVE</td>\n",
              "      <td>CHICAGO</td>\n",
              "      <td>IL</td>\n",
              "      <td>60614.0</td>\n",
              "      <td>2012-03-02T00:00:00</td>\n",
              "      <td>Canvass</td>\n",
              "      <td>34. FLOORS: CONSTRUCTED PER CODE, CLEANED, GOO...</td>\n",
              "      <td>41.925128</td>\n",
              "      <td>-87.662041</td>\n",
              "      <td>{'longitude': '-87.66204067083224', 'latitude'...</td>\n",
              "      <td>0</td>\n",
              "    </tr>\n",
              "    <tr>\n",
              "      <th>3</th>\n",
              "      <td>1965844</td>\n",
              "      <td>BIG G'S PIZZA</td>\n",
              "      <td>BIG G'S PIZZA</td>\n",
              "      <td>2334691.0</td>\n",
              "      <td>Restaurant</td>\n",
              "      <td>Risk 1 (High)</td>\n",
              "      <td>1132 W TAYLOR ST</td>\n",
              "      <td>CHICAGO</td>\n",
              "      <td>IL</td>\n",
              "      <td>60607.0</td>\n",
              "      <td>2016-10-04T00:00:00</td>\n",
              "      <td>Canvass Re-Inspection</td>\n",
              "      <td>14. PREVIOUS SERIOUS VIOLATION CORRECTED, 7-42...</td>\n",
              "      <td>41.869546</td>\n",
              "      <td>-87.655501</td>\n",
              "      <td>{'longitude': '-87.65550098867566', 'latitude'...</td>\n",
              "      <td>1</td>\n",
              "    </tr>\n",
              "    <tr>\n",
              "      <th>4</th>\n",
              "      <td>1751669</td>\n",
              "      <td>SOUTH CENTRAL COMMUNITY SERVICES ELEMENTARY</td>\n",
              "      <td>SOUTH CENTRAL COMMUNITY SERVICES ELEMENTARY</td>\n",
              "      <td>3491970.0</td>\n",
              "      <td>School</td>\n",
              "      <td>Risk 2 (Medium)</td>\n",
              "      <td>1021 E 83RD</td>\n",
              "      <td>CHICAGO</td>\n",
              "      <td>IL</td>\n",
              "      <td>60619.0</td>\n",
              "      <td>2016-04-08T00:00:00</td>\n",
              "      <td>Canvass</td>\n",
              "      <td>18. NO EVIDENCE OF RODENT OR INSECT OUTER OPEN...</td>\n",
              "      <td>41.743933</td>\n",
              "      <td>-87.599291</td>\n",
              "      <td>{'longitude': '-87.59929083361996', 'latitude'...</td>\n",
              "      <td>1</td>\n",
              "    </tr>\n",
              "  </tbody>\n",
              "</table>\n",
              "</div>"
            ],
            "text/plain": [
              "   Inspection ID  ... Fail\n",
              "0         114835  ...    0\n",
              "1        1575555  ...    0\n",
              "2         671061  ...    0\n",
              "3        1965844  ...    1\n",
              "4        1751669  ...    1\n",
              "\n",
              "[5 rows x 17 columns]"
            ]
          },
          "metadata": {
            "tags": []
          },
          "execution_count": 91
        }
      ]
    },
    {
      "cell_type": "code",
      "metadata": {
        "id": "IWz7KhgTKmll",
        "colab_type": "code",
        "colab": {
          "base_uri": "https://localhost:8080/",
          "height": 105
        },
        "outputId": "bb9e2afc-68dc-422a-9ee2-df4f633bceba"
      },
      "source": [
        "# Checking column labels\n",
        "train.columns"
      ],
      "execution_count": 92,
      "outputs": [
        {
          "output_type": "execute_result",
          "data": {
            "text/plain": [
              "Index(['Inspection ID', 'DBA Name', 'AKA Name', 'License #', 'Facility Type',\n",
              "       'Risk', 'Address', 'City', 'State', 'Zip', 'Inspection Date',\n",
              "       'Inspection Type', 'Violations', 'Latitude', 'Longitude', 'Location',\n",
              "       'Fail'],\n",
              "      dtype='object')"
            ]
          },
          "metadata": {
            "tags": []
          },
          "execution_count": 92
        }
      ]
    },
    {
      "cell_type": "code",
      "metadata": {
        "id": "W38NVROFN2J8",
        "colab_type": "code",
        "colab": {
          "base_uri": "https://localhost:8080/",
          "height": 334
        },
        "outputId": "90d70b30-1221-42c3-e469-41f7e7223918"
      },
      "source": [
        "# Checking for Null Values\n",
        "train.isnull().sum()"
      ],
      "execution_count": 93,
      "outputs": [
        {
          "output_type": "execute_result",
          "data": {
            "text/plain": [
              "Inspection ID         0\n",
              "DBA Name              0\n",
              "AKA Name            484\n",
              "License #             2\n",
              "Facility Type       181\n",
              "Risk                 10\n",
              "Address               0\n",
              "City                 42\n",
              "State                 9\n",
              "Zip                  17\n",
              "Inspection Date       0\n",
              "Inspection Type       1\n",
              "Violations         7741\n",
              "Latitude            150\n",
              "Longitude           150\n",
              "Location            150\n",
              "Fail                  0\n",
              "dtype: int64"
            ]
          },
          "metadata": {
            "tags": []
          },
          "execution_count": 93
        }
      ]
    },
    {
      "cell_type": "markdown",
      "metadata": {
        "id": "YUyPPNEVQU9a",
        "colab_type": "text"
      },
      "source": [
        "### Calculating Majority Class Baseline"
      ]
    },
    {
      "cell_type": "code",
      "metadata": {
        "id": "mfk9dNDYQKpM",
        "colab_type": "code",
        "colab": {
          "base_uri": "https://localhost:8080/",
          "height": 70
        },
        "outputId": "2dc977a1-12ae-4431-94bc-382cd6064802"
      },
      "source": [
        "train['Fail'].value_counts(normalize=True)"
      ],
      "execution_count": 94,
      "outputs": [
        {
          "output_type": "execute_result",
          "data": {
            "text/plain": [
              "0    0.740561\n",
              "1    0.259439\n",
              "Name: Fail, dtype: float64"
            ]
          },
          "metadata": {
            "tags": []
          },
          "execution_count": 94
        }
      ]
    },
    {
      "cell_type": "markdown",
      "metadata": {
        "id": "3mvnbFv5Qc1y",
        "colab_type": "text"
      },
      "source": [
        "According to the majority class baseline, 74% of businesses passed inspection with 26% failing."
      ]
    },
    {
      "cell_type": "markdown",
      "metadata": {
        "colab_type": "text",
        "id": "nB8CQnExGqzr"
      },
      "source": [
        "## Part 2: Modeling\n",
        "\n",
        "> **Fit a model** with the train set. (You may use scikit-learn, xgboost, or any other library.) Use cross-validation or do a three-way split (train/validate/test) and **estimate your ROC AUC** validation score.\n",
        ">\n",
        "> Use your model to **predict probabilities** for the test set. **Get an ROC AUC test score >= 0.60.**"
      ]
    },
    {
      "cell_type": "code",
      "metadata": {
        "colab_type": "code",
        "id": "YQ3hD2G1IbVH",
        "colab": {
          "base_uri": "https://localhost:8080/",
          "height": 35
        },
        "outputId": "e1546d59-20ad-43a0-da88-421836be6011"
      },
      "source": [
        "# Splitting train dataset into train and validation data\n",
        "from sklearn.model_selection import train_test_split\n",
        "\n",
        "train, val = train_test_split(train, train_size = 0.8, test_size = 0.2)\n",
        "\n",
        "train.shape, val.shape"
      ],
      "execution_count": 95,
      "outputs": [
        {
          "output_type": "execute_result",
          "data": {
            "text/plain": [
              "((33225, 17), (8307, 17))"
            ]
          },
          "metadata": {
            "tags": []
          },
          "execution_count": 95
        }
      ]
    },
    {
      "cell_type": "code",
      "metadata": {
        "id": "xKcsfbviKmhd",
        "colab_type": "code",
        "colab": {}
      },
      "source": [
        "# Arranging data into X matrices and y vectors\n",
        "target = 'Fail'\n",
        "features = train.columns.drop(labels=['Inspection ID', 'DBA Name', 'AKA Name', \n",
        "                                       'License #', 'Address', target])\n",
        "\n",
        "X_train = train[features]\n",
        "y_train = train[target]\n",
        "X_val = val[features]\n",
        "y_val = val[target]\n",
        "X_test = test[features]\n",
        "y_test = test[target]"
      ],
      "execution_count": 0,
      "outputs": []
    },
    {
      "cell_type": "code",
      "metadata": {
        "id": "KCJtIE1BMEpI",
        "colab_type": "code",
        "colab": {
          "base_uri": "https://localhost:8080/",
          "height": 457
        },
        "outputId": "5eba3576-6736-4b08-bc26-6d9dd0a73092"
      },
      "source": [
        "# Creating Pipeline for Modelling\n",
        "import category_encoders as ce\n",
        "from sklearn.preprocessing import OrdinalEncoder\n",
        "from sklearn.impute import SimpleImputer\n",
        "from sklearn.ensemble import RandomForestClassifier\n",
        "from sklearn.pipeline import make_pipeline\n",
        "\n",
        "\n",
        "pipeline = make_pipeline(\n",
        "    ce.OrdinalEncoder(),\n",
        "    SimpleImputer(),\n",
        "    RandomForestClassifier(n_estimators=100, n_jobs=-1, random_state=42)\n",
        ")\n",
        "\n",
        "pipeline.fit(X_train, y_train)"
      ],
      "execution_count": 97,
      "outputs": [
        {
          "output_type": "execute_result",
          "data": {
            "text/plain": [
              "Pipeline(memory=None,\n",
              "         steps=[('ordinalencoder',\n",
              "                 OrdinalEncoder(cols=['Facility Type', 'Risk', 'City', 'State',\n",
              "                                      'Inspection Date', 'Inspection Type',\n",
              "                                      'Violations', 'Location'],\n",
              "                                drop_invariant=False, handle_missing='value',\n",
              "                                handle_unknown='value',\n",
              "                                mapping=[{'col': 'Facility Type',\n",
              "                                          'data_type': dtype('O'),\n",
              "                                          'mapping': Daycare Above and Under 2 Years      1\n",
              "Restaurant                           2\n",
              "Daycare Combo 1586                   3\n",
              "S...\n",
              "                 RandomForestClassifier(bootstrap=True, ccp_alpha=0.0,\n",
              "                                        class_weight=None, criterion='gini',\n",
              "                                        max_depth=None, max_features='auto',\n",
              "                                        max_leaf_nodes=None, max_samples=None,\n",
              "                                        min_impurity_decrease=0.0,\n",
              "                                        min_impurity_split=None,\n",
              "                                        min_samples_leaf=1, min_samples_split=2,\n",
              "                                        min_weight_fraction_leaf=0.0,\n",
              "                                        n_estimators=100, n_jobs=-1,\n",
              "                                        oob_score=False, random_state=42,\n",
              "                                        verbose=0, warm_start=False))],\n",
              "         verbose=False)"
            ]
          },
          "metadata": {
            "tags": []
          },
          "execution_count": 97
        }
      ]
    },
    {
      "cell_type": "code",
      "metadata": {
        "id": "qWWH_7hxMEuz",
        "colab_type": "code",
        "colab": {
          "base_uri": "https://localhost:8080/",
          "height": 35
        },
        "outputId": "c3b60303-4378-4d74-dc38-6a1a5af34fe3"
      },
      "source": [
        "# Predicting test data using model\n",
        "y_pred_proba = pipeline.predict_proba(X_test)[:, 1]\n",
        "y_pred_proba"
      ],
      "execution_count": 98,
      "outputs": [
        {
          "output_type": "execute_result",
          "data": {
            "text/plain": [
              "array([0.15, 0.7 , 0.03, ..., 0.13, 0.05, 0.02])"
            ]
          },
          "metadata": {
            "tags": []
          },
          "execution_count": 98
        }
      ]
    },
    {
      "cell_type": "code",
      "metadata": {
        "id": "gZZQ07x8Pvn6",
        "colab_type": "code",
        "colab": {
          "base_uri": "https://localhost:8080/",
          "height": 35
        },
        "outputId": "8b29ffc1-a5eb-4dbf-c20f-e1ab5a2a7a1e"
      },
      "source": [
        "from sklearn.metrics import roc_auc_score\n",
        "print(f'ROC AUC Score : {roc_auc_score(y_test, y_pred_proba):.2f}')"
      ],
      "execution_count": 99,
      "outputs": [
        {
          "output_type": "stream",
          "text": [
            "ROC AUC Score : 0.64\n"
          ],
          "name": "stdout"
        }
      ]
    },
    {
      "cell_type": "markdown",
      "metadata": {
        "colab_type": "text",
        "id": "u98nLGBTMo9s"
      },
      "source": [
        "## Part 3: Visualization\n",
        "\n",
        "> Make visualizations for model interpretation. (You may use any libraries.) Choose two of these types:\n",
        ">\n",
        "> - Permutation Importances\n",
        "> - Partial Dependence Plot, 1 feature isolation\n",
        "> - Partial Dependence Plot, 2 features interaction\n",
        "> - Shapley Values"
      ]
    },
    {
      "cell_type": "markdown",
      "metadata": {
        "id": "OPV3-G32U4qq",
        "colab_type": "text"
      },
      "source": [
        "### Permutation Importances"
      ]
    },
    {
      "cell_type": "markdown",
      "metadata": {
        "id": "DE0K3JNASqk6",
        "colab_type": "text"
      },
      "source": [
        "For model interpretation permutation importance is looked at for the features using eli5 library."
      ]
    },
    {
      "cell_type": "code",
      "metadata": {
        "id": "d8sOqhVuS82B",
        "colab_type": "code",
        "colab": {
          "base_uri": "https://localhost:8080/",
          "height": 158
        },
        "outputId": "4e1cd71a-ccec-4b0a-fbcf-441d2dc0292a"
      },
      "source": [
        "transformers = make_pipeline(\n",
        "    ce.ordinal.OrdinalEncoder(),\n",
        "    SimpleImputer()\n",
        ")\n",
        "\n",
        "X_train_tranformed = transformers.fit_transform(X_train)\n",
        "X_val_tranformed = transformers.transform(X_val)\n",
        "\n",
        "model = RandomForestClassifier(n_estimators=100, random_state=42, n_jobs=-1)\n",
        "model.fit(X_train_tranformed, y_train)"
      ],
      "execution_count": 100,
      "outputs": [
        {
          "output_type": "execute_result",
          "data": {
            "text/plain": [
              "RandomForestClassifier(bootstrap=True, ccp_alpha=0.0, class_weight=None,\n",
              "                       criterion='gini', max_depth=None, max_features='auto',\n",
              "                       max_leaf_nodes=None, max_samples=None,\n",
              "                       min_impurity_decrease=0.0, min_impurity_split=None,\n",
              "                       min_samples_leaf=1, min_samples_split=2,\n",
              "                       min_weight_fraction_leaf=0.0, n_estimators=100,\n",
              "                       n_jobs=-1, oob_score=False, random_state=42, verbose=0,\n",
              "                       warm_start=False)"
            ]
          },
          "metadata": {
            "tags": []
          },
          "execution_count": 100
        }
      ]
    },
    {
      "cell_type": "code",
      "metadata": {
        "colab_type": "code",
        "id": "_Q379i5CIeKY",
        "colab": {
          "base_uri": "https://localhost:8080/",
          "height": 387
        },
        "outputId": "7acb5929-92d9-4a7f-b4ca-6ae0497af460"
      },
      "source": [
        "import eli5\n",
        "from eli5.sklearn import PermutationImportance\n",
        "\n",
        "permuter = PermutationImportance(\n",
        "    model,\n",
        "    scoring=None,\n",
        "    n_iter=5,\n",
        "    random_state=42\n",
        ")\n",
        "\n",
        "permuter.fit(X_val_tranformed, y_val)"
      ],
      "execution_count": 101,
      "outputs": [
        {
          "output_type": "execute_result",
          "data": {
            "text/plain": [
              "PermutationImportance(cv='prefit',\n",
              "                      estimator=RandomForestClassifier(bootstrap=True,\n",
              "                                                       ccp_alpha=0.0,\n",
              "                                                       class_weight=None,\n",
              "                                                       criterion='gini',\n",
              "                                                       max_depth=None,\n",
              "                                                       max_features='auto',\n",
              "                                                       max_leaf_nodes=None,\n",
              "                                                       max_samples=None,\n",
              "                                                       min_impurity_decrease=0.0,\n",
              "                                                       min_impurity_split=None,\n",
              "                                                       min_samples_leaf=1,\n",
              "                                                       min_samples_split=2,\n",
              "                                                       min_weight_fraction_leaf=0.0,\n",
              "                                                       n_estimators=100,\n",
              "                                                       n_jobs=-1,\n",
              "                                                       oob_score=False,\n",
              "                                                       random_state=42,\n",
              "                                                       verbose=0,\n",
              "                                                       warm_start=False),\n",
              "                      n_iter=5, random_state=42, refit=True, scoring=None)"
            ]
          },
          "metadata": {
            "tags": []
          },
          "execution_count": 101
        }
      ]
    },
    {
      "cell_type": "code",
      "metadata": {
        "id": "exKJbnVrTHLk",
        "colab_type": "code",
        "colab": {
          "base_uri": "https://localhost:8080/",
          "height": 228
        },
        "outputId": "64cf1899-1899-4c97-8eb7-1188c996f7a8"
      },
      "source": [
        "# Displaying feature importances\n",
        "feature_names = X_val.columns.to_list()\n",
        "pd.Series(permuter.feature_importances_, feature_names).sort_values(ascending=False)"
      ],
      "execution_count": 102,
      "outputs": [
        {
          "output_type": "execute_result",
          "data": {
            "text/plain": [
              "Inspection Type    0.008065\n",
              "Facility Type      0.002937\n",
              "Violations         0.000265\n",
              "Inspection Date    0.000096\n",
              "State              0.000000\n",
              "City               0.000000\n",
              "Risk              -0.000120\n",
              "Latitude          -0.001396\n",
              "Location          -0.002119\n",
              "Zip               -0.002335\n",
              "Longitude         -0.002648\n",
              "dtype: float64"
            ]
          },
          "metadata": {
            "tags": []
          },
          "execution_count": 102
        }
      ]
    },
    {
      "cell_type": "code",
      "metadata": {
        "id": "9WtLG2cBTzAG",
        "colab_type": "code",
        "colab": {
          "base_uri": "https://localhost:8080/",
          "height": 223
        },
        "outputId": "53d63c5f-93da-4014-b939-bc28f9be5931"
      },
      "source": [
        "# Displaying feature weights\n",
        "eli5.show_weights(permuter, \n",
        "                  top=None,\n",
        "                  feature_names=feature_names)"
      ],
      "execution_count": 103,
      "outputs": [
        {
          "output_type": "execute_result",
          "data": {
            "text/html": [
              "\n",
              "    <style>\n",
              "    table.eli5-weights tr:hover {\n",
              "        filter: brightness(85%);\n",
              "    }\n",
              "</style>\n",
              "\n",
              "\n",
              "\n",
              "    \n",
              "\n",
              "    \n",
              "\n",
              "    \n",
              "\n",
              "    \n",
              "\n",
              "    \n",
              "\n",
              "    \n",
              "\n",
              "\n",
              "    \n",
              "\n",
              "    \n",
              "\n",
              "    \n",
              "\n",
              "    \n",
              "\n",
              "    \n",
              "\n",
              "    \n",
              "\n",
              "\n",
              "    \n",
              "\n",
              "    \n",
              "\n",
              "    \n",
              "\n",
              "    \n",
              "\n",
              "    \n",
              "        <table class=\"eli5-weights eli5-feature-importances\" style=\"border-collapse: collapse; border: none; margin-top: 0em; table-layout: auto;\">\n",
              "    <thead>\n",
              "    <tr style=\"border: none;\">\n",
              "        <th style=\"padding: 0 1em 0 0.5em; text-align: right; border: none;\">Weight</th>\n",
              "        <th style=\"padding: 0 0.5em 0 0.5em; text-align: left; border: none;\">Feature</th>\n",
              "    </tr>\n",
              "    </thead>\n",
              "    <tbody>\n",
              "    \n",
              "        <tr style=\"background-color: hsl(120, 100.00%, 80.00%); border: none;\">\n",
              "            <td style=\"padding: 0 1em 0 0.5em; text-align: right; border: none;\">\n",
              "                0.0081\n",
              "                \n",
              "                    &plusmn; 0.0024\n",
              "                \n",
              "            </td>\n",
              "            <td style=\"padding: 0 0.5em 0 0.5em; text-align: left; border: none;\">\n",
              "                Inspection Type\n",
              "            </td>\n",
              "        </tr>\n",
              "    \n",
              "        <tr style=\"background-color: hsl(120, 100.00%, 90.14%); border: none;\">\n",
              "            <td style=\"padding: 0 1em 0 0.5em; text-align: right; border: none;\">\n",
              "                0.0029\n",
              "                \n",
              "                    &plusmn; 0.0010\n",
              "                \n",
              "            </td>\n",
              "            <td style=\"padding: 0 0.5em 0 0.5em; text-align: left; border: none;\">\n",
              "                Facility Type\n",
              "            </td>\n",
              "        </tr>\n",
              "    \n",
              "        <tr style=\"background-color: hsl(120, 100.00%, 98.17%); border: none;\">\n",
              "            <td style=\"padding: 0 1em 0 0.5em; text-align: right; border: none;\">\n",
              "                0.0003\n",
              "                \n",
              "                    &plusmn; 0.0002\n",
              "                \n",
              "            </td>\n",
              "            <td style=\"padding: 0 0.5em 0 0.5em; text-align: left; border: none;\">\n",
              "                Violations\n",
              "            </td>\n",
              "        </tr>\n",
              "    \n",
              "        <tr style=\"background-color: hsl(120, 100.00%, 99.10%); border: none;\">\n",
              "            <td style=\"padding: 0 1em 0 0.5em; text-align: right; border: none;\">\n",
              "                0.0001\n",
              "                \n",
              "                    &plusmn; 0.0015\n",
              "                \n",
              "            </td>\n",
              "            <td style=\"padding: 0 0.5em 0 0.5em; text-align: left; border: none;\">\n",
              "                Inspection Date\n",
              "            </td>\n",
              "        </tr>\n",
              "    \n",
              "        <tr style=\"background-color: hsl(0, 100.00%, 100.00%); border: none;\">\n",
              "            <td style=\"padding: 0 1em 0 0.5em; text-align: right; border: none;\">\n",
              "                0\n",
              "                \n",
              "                    &plusmn; 0.0000\n",
              "                \n",
              "            </td>\n",
              "            <td style=\"padding: 0 0.5em 0 0.5em; text-align: left; border: none;\">\n",
              "                State\n",
              "            </td>\n",
              "        </tr>\n",
              "    \n",
              "        <tr style=\"background-color: hsl(0, 100.00%, 100.00%); border: none;\">\n",
              "            <td style=\"padding: 0 1em 0 0.5em; text-align: right; border: none;\">\n",
              "                0.0000\n",
              "                \n",
              "                    &plusmn; 0.0002\n",
              "                \n",
              "            </td>\n",
              "            <td style=\"padding: 0 0.5em 0 0.5em; text-align: left; border: none;\">\n",
              "                City\n",
              "            </td>\n",
              "        </tr>\n",
              "    \n",
              "        <tr style=\"background-color: hsl(0, 100.00%, 98.95%); border: none;\">\n",
              "            <td style=\"padding: 0 1em 0 0.5em; text-align: right; border: none;\">\n",
              "                -0.0001\n",
              "                \n",
              "                    &plusmn; 0.0023\n",
              "                \n",
              "            </td>\n",
              "            <td style=\"padding: 0 0.5em 0 0.5em; text-align: left; border: none;\">\n",
              "                Risk\n",
              "            </td>\n",
              "        </tr>\n",
              "    \n",
              "        <tr style=\"background-color: hsl(0, 100.00%, 94.14%); border: none;\">\n",
              "            <td style=\"padding: 0 1em 0 0.5em; text-align: right; border: none;\">\n",
              "                -0.0014\n",
              "                \n",
              "                    &plusmn; 0.0012\n",
              "                \n",
              "            </td>\n",
              "            <td style=\"padding: 0 0.5em 0 0.5em; text-align: left; border: none;\">\n",
              "                Latitude\n",
              "            </td>\n",
              "        </tr>\n",
              "    \n",
              "        <tr style=\"background-color: hsl(0, 100.00%, 92.15%); border: none;\">\n",
              "            <td style=\"padding: 0 1em 0 0.5em; text-align: right; border: none;\">\n",
              "                -0.0021\n",
              "                \n",
              "                    &plusmn; 0.0013\n",
              "                \n",
              "            </td>\n",
              "            <td style=\"padding: 0 0.5em 0 0.5em; text-align: left; border: none;\">\n",
              "                Location\n",
              "            </td>\n",
              "        </tr>\n",
              "    \n",
              "        <tr style=\"background-color: hsl(0, 100.00%, 91.60%); border: none;\">\n",
              "            <td style=\"padding: 0 1em 0 0.5em; text-align: right; border: none;\">\n",
              "                -0.0023\n",
              "                \n",
              "                    &plusmn; 0.0018\n",
              "                \n",
              "            </td>\n",
              "            <td style=\"padding: 0 0.5em 0 0.5em; text-align: left; border: none;\">\n",
              "                Zip\n",
              "            </td>\n",
              "        </tr>\n",
              "    \n",
              "        <tr style=\"background-color: hsl(0, 100.00%, 90.83%); border: none;\">\n",
              "            <td style=\"padding: 0 1em 0 0.5em; text-align: right; border: none;\">\n",
              "                -0.0026\n",
              "                \n",
              "                    &plusmn; 0.0018\n",
              "                \n",
              "            </td>\n",
              "            <td style=\"padding: 0 0.5em 0 0.5em; text-align: left; border: none;\">\n",
              "                Longitude\n",
              "            </td>\n",
              "        </tr>\n",
              "    \n",
              "    \n",
              "    </tbody>\n",
              "</table>\n",
              "    \n",
              "\n",
              "    \n",
              "\n",
              "\n",
              "    \n",
              "\n",
              "    \n",
              "\n",
              "    \n",
              "\n",
              "    \n",
              "\n",
              "    \n",
              "\n",
              "    \n",
              "\n",
              "\n",
              "\n"
            ],
            "text/plain": [
              "<IPython.core.display.HTML object>"
            ]
          },
          "metadata": {
            "tags": []
          },
          "execution_count": 103
        }
      ]
    },
    {
      "cell_type": "markdown",
      "metadata": {
        "id": "S47jwFtWUPBs",
        "colab_type": "text"
      },
      "source": [
        "Based on the calculated feature weights the best features for prediction are inspection type and inspection date as well as violations followed by state, city, facility type, location and risk."
      ]
    },
    {
      "cell_type": "markdown",
      "metadata": {
        "id": "xOmMuNjuWCBf",
        "colab_type": "text"
      },
      "source": [
        "### Confusion Matrix"
      ]
    },
    {
      "cell_type": "code",
      "metadata": {
        "id": "zhnlHG5wTzZ7",
        "colab_type": "code",
        "colab": {
          "base_uri": "https://localhost:8080/",
          "height": 314
        },
        "outputId": "0cf2c8dd-03aa-4093-a79b-4f5b993c58bd"
      },
      "source": [
        "from sklearn.metrics import plot_confusion_matrix\n",
        "\n",
        "disp = plot_confusion_matrix(pipeline, X_test, y_test,\n",
        "                             cmap=plt.cm.Blues,\n",
        "                             normalize='true')\n",
        "print(disp.confusion_matrix)\n",
        "\n",
        "plt.show()"
      ],
      "execution_count": 104,
      "outputs": [
        {
          "output_type": "stream",
          "text": [
            "[[0.9812953  0.0187047 ]\n",
            " [0.95240223 0.04759777]]\n"
          ],
          "name": "stdout"
        },
        {
          "output_type": "display_data",
          "data": {
            "image/png": "[encoded data removed]",
            "text/plain": [
              "<Figure size 432x288 with 2 Axes>"
            ]
          },
          "metadata": {
            "tags": [],
            "needs_background": "light"
          }
        }
      ]
    }
  ]
}